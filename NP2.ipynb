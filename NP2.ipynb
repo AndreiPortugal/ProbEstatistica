{
 "cells": [
  {
   "cell_type": "markdown",
   "metadata": {},
   "source": [
    "# Andrei Carvalho Torres Portugal\n",
    "\n",
    "## Disciplina: Probabilidade e Estatística\n",
    "\n",
    "### Bibliotecas Utilizadas:\n",
    "- numpy\n",
    "- pandas"
   ]
  },
  {
   "cell_type": "markdown",
   "metadata": {},
   "source": [
    "**QUESTÃO 1 A)**"
   ]
  },
  {
   "cell_type": "code",
   "execution_count": 24,
   "metadata": {},
   "outputs": [
    {
     "data": {
      "text/plain": [
       "(np.float64(25.1875), np.float64(164.9625), np.float64(12.843772810198724))"
      ]
     },
     "execution_count": 24,
     "metadata": {},
     "output_type": "execute_result"
    }
   ],
   "source": [
    "import numpy as np\n",
    "\n",
    "# Dados da amostra\n",
    "dados = np.array([11, 39, 27, 25, 41, 18, 32, 35, 21, 19, 12, 42, 4, 5, 40, 32])\n",
    "\n",
    "# Cálculo das medidas estatísticas\n",
    "media = np.mean(dados)\n",
    "variancia = np.var(dados, ddof=1)  # ddof=1 para amostra\n",
    "desvio_padrao = np.sqrt(variancia)\n",
    "\n",
    "media, variancia, desvio_padrao\n"
   ]
  },
  {
   "cell_type": "markdown",
   "metadata": {},
   "source": [
    "Os cálculos resultaram em:\n",
    "\n",
    "Média (𝜇̂): 25.19\n",
    "\n",
    "Variância (𝜎²̂): 164.96\n",
    "\n",
    "Desvio Padrão (𝜎̂): 12.84\n"
   ]
  },
  {
   "cell_type": "markdown",
   "metadata": {},
   "source": [
    "**QUESTÃO 1 B)**"
   ]
  },
  {
   "cell_type": "markdown",
   "metadata": {},
   "source": [
    "Hipotese nula : a média das mensagens enviadas é : 28\n",
    "\n",
    "Hipotese alternativa : a média não é 28"
   ]
  },
  {
   "cell_type": "code",
   "execution_count": 25,
   "metadata": {},
   "outputs": [
    {
     "data": {
      "text/plain": [
       "(np.float64(-0.8759108531619951),\n",
       " np.float64(2.131449545559323),\n",
       " np.float64(0.39488908833634007))"
      ]
     },
     "execution_count": 25,
     "metadata": {},
     "output_type": "execute_result"
    }
   ],
   "source": [
    "from scipy import stats\n",
    "\n",
    "# Parâmetros do teste\n",
    "mu_hipotetico = 28  # Média proposta na hipótese nula\n",
    "n = len(dados)  # Tamanho da amostra\n",
    "graus_de_liberdade = n - 1  # Graus de liberdade para o teste t\n",
    "\n",
    "# Estatística t\n",
    "t_stat = (media - mu_hipotetico) / (desvio_padrao / np.sqrt(n))\n",
    "\n",
    "# Valor crítico para um teste bicaudal com alfa = 0.05\n",
    "t_critico = stats.t.ppf(1 - 0.025, graus_de_liberdade)  # 0.025 de cada lado\n",
    "\n",
    "# p-valor associado ao teste t\n",
    "p_valor = 2 * (1 - stats.t.cdf(abs(t_stat), graus_de_liberdade))\n",
    "\n",
    "t_stat, t_critico, p_valor\n"
   ]
  },
  {
   "cell_type": "markdown",
   "metadata": {},
   "source": [
    "Os resultados do teste são:\n",
    "\n",
    "Estatística 𝑡: 0.876\n",
    "\n",
    "Valor critico : ±2.131\n",
    "\n",
    "p-valor : 0.395\n",
    "\n",
    "Conclusão : Como \"Estatistica t\" = 0.876 não ultrapassa o valor critico de 2.131, e o \"p-valor\" é maior que 0.05, não rejeitamos a \"Hipótese Nula\".\n",
    "Ou seja, não há evidências suficientes para afirmar que a média real da rede A seja diferente de 28."
   ]
  },
  {
   "cell_type": "markdown",
   "metadata": {},
   "source": [
    "**QUESTÃO 2 A) Cálculo da Média**"
   ]
  },
  {
   "cell_type": "code",
   "execution_count": 26,
   "metadata": {},
   "outputs": [
    {
     "data": {
      "text/plain": [
       "np.float64(14.791780821917808)"
      ]
     },
     "execution_count": 26,
     "metadata": {},
     "output_type": "execute_result"
    }
   ],
   "source": [
    "# Dados da tabela\n",
    "fi = np.array([55, 73, 128, 73, 36])  # Frequências\n",
    "xi = np.array([11, 13, 15, 17, 19])   # Pontos médios\n",
    "\n",
    "# Cálculo da média\n",
    "media_tabela = np.sum(xi * fi) / np.sum(fi)\n",
    "media_tabela\n"
   ]
  },
  {
   "cell_type": "markdown",
   "metadata": {},
   "source": [
    "Média de atendimentos diários é aproximadamente 14.79"
   ]
  },
  {
   "cell_type": "markdown",
   "metadata": {},
   "source": [
    "**QUESTÃO 2 B) Cálculo da Variância**"
   ]
  },
  {
   "cell_type": "code",
   "execution_count": 27,
   "metadata": {},
   "outputs": [
    {
     "data": {
      "text/plain": [
       "np.float64(5.545685869769187)"
      ]
     },
     "execution_count": 27,
     "metadata": {},
     "output_type": "execute_result"
    }
   ],
   "source": [
    "# Dados adicionais da tabela\n",
    "xi_quadrado_fi = np.array([6655, 12337, 28800, 21097, 12996])  # xi² * fi\n",
    "\n",
    "# Cálculo da variância\n",
    "variancia_tabela = (np.sum(xi_quadrado_fi) / np.sum(fi)) - (media_tabela ** 2)\n",
    "variancia_tabela\n"
   ]
  },
  {
   "cell_type": "markdown",
   "metadata": {},
   "source": [
    "A variância é aproximadamente 5.55"
   ]
  },
  {
   "cell_type": "markdown",
   "metadata": {},
   "source": [
    "**QUESTÃO 2 C) Construção do Intervalo de Confiança (95%)**"
   ]
  },
  {
   "cell_type": "code",
   "execution_count": 28,
   "metadata": {},
   "outputs": [
    {
     "data": {
      "text/plain": [
       "(np.float64(14.549384671313845), np.float64(15.03417697252177))"
      ]
     },
     "execution_count": 28,
     "metadata": {},
     "output_type": "execute_result"
    }
   ],
   "source": [
    "# Cálculo do desvio padrão\n",
    "desvio_padrao_tabela = np.sqrt(variancia_tabela)\n",
    "\n",
    "# Valor crítico t para 95% de confiança e 364 graus de liberdade\n",
    "t_critico_95 = stats.t.ppf(1 - 0.025, df=364)\n",
    "\n",
    "# Margem de erro\n",
    "margem_erro = t_critico_95 * (desvio_padrao_tabela / np.sqrt(365))\n",
    "\n",
    "# Intervalo de confiança\n",
    "IC_inf = media_tabela - margem_erro\n",
    "IC_sup = media_tabela + margem_erro\n",
    "\n",
    "IC_inf, IC_sup\n"
   ]
  },
  {
   "cell_type": "markdown",
   "metadata": {},
   "source": [
    "O intervalo de confiança (95%) para a média do numero de atendimentos diários é : ( 14.55, 15.03)"
   ]
  },
  {
   "cell_type": "markdown",
   "metadata": {},
   "source": [
    "**QUESTÃO 2 D) Teste de Hipótese**\n",
    "\n",
    "Hipotese nula : A média do número de atendimentos é um valor específico ( supondo que seja 15)\n",
    "\n",
    "Hipótese Alternativa: A média é diferente de 15"
   ]
  },
  {
   "cell_type": "code",
   "execution_count": 29,
   "metadata": {},
   "outputs": [
    {
     "data": {
      "text/plain": [
       "(np.float64(-1.6892328840687683), np.float64(0.09203112263234492))"
      ]
     },
     "execution_count": 29,
     "metadata": {},
     "output_type": "execute_result"
    }
   ],
   "source": [
    "# Hipótese testada: média = 15\n",
    "mu_teste = 15\n",
    "\n",
    "# Estatística t para o teste\n",
    "t_stat_teste = (media_tabela - mu_teste) / (desvio_padrao_tabela / np.sqrt(365))\n",
    "\n",
    "# p-valor associado ao teste t\n",
    "p_valor_teste = 2 * (1 - stats.t.cdf(abs(t_stat_teste), df=364))\n",
    "\n",
    "t_stat_teste, p_valor_teste\n"
   ]
  },
  {
   "cell_type": "markdown",
   "metadata": {},
   "source": [
    "Os resultados do teste:\n",
    "\n",
    "Estatística t: -1.689\n",
    "\n",
    "p-valor: 0.092\n",
    "\n",
    "Conclusão : O \"p-valor\" é 0.092, ou seja, maior que 0.05. Significa que não rejeitamos a \"Hipotese nula\" ao nível de 5% de significancia. Portanto, não há evidências estatísticas suficientes para afirmar que a média dos atendimentos diários seja diferente de 15\n"
   ]
  },
  {
   "cell_type": "markdown",
   "metadata": {},
   "source": [
    "**QUESTÃO 3 Regressão e Correlação**"
   ]
  },
  {
   "cell_type": "code",
   "execution_count": 30,
   "metadata": {},
   "outputs": [
    {
     "data": {
      "text/plain": [
       "(np.float64(-20800.0), np.float64(18014.285714285714))"
      ]
     },
     "execution_count": 30,
     "metadata": {},
     "output_type": "execute_result"
    }
   ],
   "source": [
    "# Dados do problema\n",
    "X = np.array([1, 2, 3, 4, 5, 6])\n",
    "Y = np.array([9500, 16000, 23000, 38000, 62000, 105000])\n",
    "\n",
    "# Cálculo dos coeficientes da regressão linear\n",
    "n = len(X)\n",
    "soma_X = np.sum(X)\n",
    "soma_Y = np.sum(Y)\n",
    "soma_XY = np.sum(X * Y)\n",
    "soma_X2 = np.sum(X**2)\n",
    "\n",
    "# Coeficiente angular (b)\n",
    "b = (n * soma_XY - soma_X * soma_Y) / (n * soma_X2 - soma_X**2)\n",
    "\n",
    "# Coeficiente linear (a)\n",
    "a = (soma_Y - b * soma_X) / n\n",
    "\n",
    "a, b\n"
   ]
  },
  {
   "cell_type": "markdown",
   "metadata": {},
   "source": [
    "O modelo de regressão linear encontrado é:\n",
    "\n",
    "Y= -20800 + 18014.29X\n",
    "\n",
    "O que significa : A cada ano (X) que passa, o numero de transistores aumenta em aproximadamente 18.014 unidades. Ademais, o valor inicial previsto (quando X=0) seria -20.800.\n",
    "\n",
    "\n",
    "Agora vamos -> calcular o Coeficiente de Correlação"
   ]
  },
  {
   "cell_type": "code",
   "execution_count": 31,
   "metadata": {},
   "outputs": [
    {
     "data": {
      "text/plain": [
       "np.float64(0.9363102747172248)"
      ]
     },
     "execution_count": 31,
     "metadata": {},
     "output_type": "execute_result"
    }
   ],
   "source": [
    "# Cálculo do coeficiente de correlação (r)\n",
    "soma_Y2 = np.sum(Y**2)\n",
    "\n",
    "# Fórmula de Pearson\n",
    "r = (n * soma_XY - soma_X * soma_Y) / np.sqrt((n * soma_X2 - soma_X**2) * (n * soma_Y2 - soma_Y**2))\n",
    "\n",
    "r\n"
   ]
  },
  {
   "cell_type": "markdown",
   "metadata": {},
   "source": [
    "Coeficiente de correlação encontrado é : 0.936\n",
    "\n",
    "Como o Coeficiente de correlação está proximo de 1, há uma forte correlação positiva entre o número de transistores e o tempo. Podemos afirmar que o modelo de regressão linear é adequado para prever o crescimento do número de transistores ao longo dos anos."
   ]
  },
  {
   "cell_type": "markdown",
   "metadata": {},
   "source": [
    "**QUESTÃO 4 Regressão e Correlação**"
   ]
  },
  {
   "cell_type": "code",
   "execution_count": 32,
   "metadata": {},
   "outputs": [
    {
     "name": "stdout",
     "output_type": "stream",
     "text": [
      "   Coeficiente Angular (b)  Coeficiente Linear (a) Equação da Regressão  \\\n",
      "0                 2.339394               22.866667    Y = 22.87 + 2.34X   \n",
      "\n",
      "   Coeficiente de Correlação (r)  Estimativa para X=24  \n",
      "0                       0.919001             79.012121  \n"
     ]
    }
   ],
   "source": [
    "import numpy as np\n",
    "import pandas as pd\n",
    "\n",
    "# Dados fornecidos\n",
    "X = np.array([2, 4, 6, 8, 10, 12, 14, 16, 18, 20])\n",
    "Y = np.array([20, 28, 35, 48, 54, 58, 60, 61, 60, 62])\n",
    "\n",
    "# Número de observações\n",
    "n = len(X)\n",
    "\n",
    "# Cálculo das somas necessárias\n",
    "sum_X = np.sum(X)\n",
    "sum_Y = np.sum(Y)\n",
    "sum_XY = np.sum(X * Y)\n",
    "sum_X2 = np.sum(X**2)\n",
    "sum_Y2 = np.sum(Y**2)\n",
    "\n",
    "# Coeficiente angular (b)\n",
    "b = (n * sum_XY - sum_X * sum_Y) / (n * sum_X2 - sum_X**2)\n",
    "\n",
    "# Coeficiente linear (a)\n",
    "a = (sum_Y - b * sum_X) / n\n",
    "\n",
    "# Equação da reta\n",
    "equation = f\"Y = {a:.2f} + {b:.2f}X\"\n",
    "\n",
    "# Coeficiente de correlação de Pearson (r)\n",
    "r = (n * sum_XY - sum_X * sum_Y) / np.sqrt((n * sum_X2 - sum_X**2) * (n * sum_Y2 - sum_Y**2))\n",
    "\n",
    "# Estimativa de Y para X = 24\n",
    "X_pred = 24\n",
    "Y_pred = a + b * X_pred\n",
    "\n",
    "# Criar um DataFrame para mostrar os resultados\n",
    "df_results = pd.DataFrame({\n",
    "    \"Coeficiente Angular (b)\": [b],\n",
    "    \"Coeficiente Linear (a)\": [a],\n",
    "    \"Equação da Regressão\": [equation],\n",
    "    \"Coeficiente de Correlação (r)\": [r],\n",
    "    \"Estimativa para X=24\": [Y_pred]\n",
    "})\n",
    "\n",
    "# Exibir os resultados\n",
    "print(df_results)"
   ]
  },
  {
   "cell_type": "markdown",
   "metadata": {},
   "source": [
    "**QUESTÃO 5 Distribuição de Poisson**"
   ]
  },
  {
   "cell_type": "code",
   "execution_count": 33,
   "metadata": {},
   "outputs": [
    {
     "name": "stdout",
     "output_type": "stream",
     "text": [
      "   Probabilidade de T > 2 minutos  Probabilidade de T < 4 minutos\n",
      "0                        0.367879                        0.864665\n"
     ]
    }
   ],
   "source": [
    "import numpy as np\n",
    "import pandas as pd\n",
    "# Definir a taxa lambda\n",
    "\n",
    "lambda_ = 0.5  # mensagens por minuto\n",
    "\n",
    "# Calcular P(T > 2) = e^(-lambda * 2)\n",
    "P_T_maior_2 = np.exp(-lambda_ * 2)\n",
    "\n",
    "# Calcular P(T < 4) = 1 - e^(-lambda * 4)\n",
    "P_T_menor_4 = 1 - np.exp(-lambda_ * 4)\n",
    "\n",
    "# Criar um DataFrame para mostrar os resultados\n",
    "df_poisson = pd.DataFrame({\n",
    "    \"Probabilidade de T > 2 minutos\": [P_T_maior_2],\n",
    "    \"Probabilidade de T < 4 minutos\": [P_T_menor_4]\n",
    "})\n",
    "\n",
    "# Exibir os resultados\n",
    "print(df_poisson)\n"
   ]
  },
  {
   "cell_type": "markdown",
   "metadata": {},
   "source": [
    "a) maior que 2 minutos é de aproximadamente 36,79%\n",
    "\n",
    "b)probabilidade de o intervalo ser menor que 4 minutos é de cerca de 86,47%"
   ]
  },
  {
   "cell_type": "markdown",
   "metadata": {},
   "source": [
    "**QUESTÃO 06 – Distribuição Normal**"
   ]
  },
  {
   "cell_type": "code",
   "execution_count": 34,
   "metadata": {},
   "outputs": [
    {
     "name": "stdout",
     "output_type": "stream",
     "text": [
      "   Escore Z  Probabilidade de X < 40 minutos\n",
      "0      -0.4                         0.344578\n"
     ]
    }
   ],
   "source": [
    "from scipy.stats import norm\n",
    "\n",
    "# Definir os parâmetros\n",
    "mu = 50  # Média\n",
    "sigma = 25  # Desvio padrão\n",
    "X = 40  # Valor de interesse\n",
    "\n",
    "# Calcular o escore Z\n",
    "Z = (X - mu) / sigma\n",
    "\n",
    "# Encontrar a probabilidade acumulada P(X < 40)\n",
    "P_X_menor_40 = norm.cdf(Z)  # cdf fornece a probabilidade acumulada\n",
    "\n",
    "# Criar um DataFrame para mostrar os resultados\n",
    "df_normal = pd.DataFrame({\n",
    "    \"Escore Z\": [Z],\n",
    "    \"Probabilidade de X < 40 minutos\": [P_X_menor_40]\n",
    "})\n",
    "\n",
    "# Exibir os resultados\n",
    "print(df_normal)\n"
   ]
  },
  {
   "cell_type": "markdown",
   "metadata": {},
   "source": [
    "a probabilidade de um candidato terminar o teste em menos de 40 minutos é aproximadamente 34,46%. Isso significa que cerca de 1 em cada 3 candidatos consegue concluir o exame antes desse tempo."
   ]
  },
  {
   "cell_type": "markdown",
   "metadata": {},
   "source": [
    "**QUESTÃO 7 - Distribuição Binomial**"
   ]
  },
  {
   "cell_type": "code",
   "execution_count": 35,
   "metadata": {},
   "outputs": [
    {
     "name": "stdout",
     "output_type": "stream",
     "text": [
      "   Probabilidade de Nenhum Defeituoso (P(0))  \\\n",
      "0                                    0.38742   \n",
      "\n",
      "   Probabilidade de Pelo Menos 1 Defeituoso (P(≥1))  \n",
      "0                                           0.61258  \n"
     ]
    }
   ],
   "source": [
    "# Definir os parâmetros\n",
    "n = 9  # Número de computadores na amostra\n",
    "p = 0.10  # Probabilidade de um computador apresentar defeito\n",
    "\n",
    "# Calcular P(0 defeituosos) = (1 - p)^n\n",
    "P_0 = (1 - p) ** n\n",
    "\n",
    "# Calcular P(ao menos 1 defeituoso) = 1 - P(0)\n",
    "P_1_ou_mais = 1 - P_0\n",
    "\n",
    "# Criar um DataFrame para mostrar os resultados\n",
    "df_binomial = pd.DataFrame({\n",
    "    \"Probabilidade de Nenhum Defeituoso (P(0))\": [P_0],\n",
    "    \"Probabilidade de Pelo Menos 1 Defeituoso (P(≥1))\": [P_1_ou_mais]\n",
    "})\n",
    "\n",
    "# Exibir os resultados\n",
    "print(df_binomial)\n"
   ]
  },
  {
   "cell_type": "markdown",
   "metadata": {},
   "source": [
    "a probabilidade de que ao menos um dos 9 computadores tenha defeito é de aproximadamente 61,26%. Isso significa que, ao coletar uma amostra de 9 computadores, há uma alta chance de que pelo menos um deles esteja defeituoso."
   ]
  },
  {
   "cell_type": "markdown",
   "metadata": {},
   "source": [
    "**QUESTÃO 8 - Distribuição Exponencial**"
   ]
  },
  {
   "cell_type": "code",
   "execution_count": 36,
   "metadata": {},
   "outputs": [
    {
     "name": "stdout",
     "output_type": "stream",
     "text": [
      "   Taxa Lambda (1/média)  PDF para T = 4 minutos Probabilidade P(T=4)\n",
      "0                   0.25                 0.09197          Sempre Zero\n"
     ]
    }
   ],
   "source": [
    "# Definir os parâmetros\n",
    "lambda_ = 1 / 4  # Taxa da distribuição exponencial (1/média)\n",
    "t = 4  # Tempo específico\n",
    "\n",
    "# Calcular a função de densidade de probabilidade (PDF) para t = 4\n",
    "pdf_t_4 = lambda_ * np.exp(-lambda_ * t)\n",
    "\n",
    "# Criar um DataFrame para mostrar os resultados\n",
    "df_exponencial = pd.DataFrame({\n",
    "    \"Taxa Lambda (1/média)\": [lambda_],\n",
    "    \"PDF para T = 4 minutos\": [pdf_t_4],\n",
    "    \"Probabilidade P(T=4)\": [\"Sempre Zero\"]\n",
    "})\n",
    "\n",
    "# Exibir os resultados\n",
    "print(df_exponencial)"
   ]
  },
  {
   "cell_type": "markdown",
   "metadata": {},
   "source": [
    " probabilidade de um tempo exato ser observado é sempre zero, pois trata-se de uma variável contínua. No entanto, a função de densidade de probabilidade (PDF) para 𝑡=4 é aproximadamente 0,09197, o que indica a \"altura\" da distribuição nesse ponto."
   ]
  },
  {
   "cell_type": "markdown",
   "metadata": {},
   "source": [
    "**QUESTÃO 9 - Distribuição Uniforme**"
   ]
  },
  {
   "cell_type": "code",
   "execution_count": 37,
   "metadata": {},
   "outputs": [
    {
     "name": "stdout",
     "output_type": "stream",
     "text": [
      "   Menor Comprimento (a)  Maior Comprimento (b)  Comprimento Médio (E(X))\n",
      "0                      2                      8                       5.0\n"
     ]
    }
   ],
   "source": [
    "# Definir os limites do intervalo\n",
    "a = 2  # Menor comprimento possível\n",
    "b = 8  # Maior comprimento possível\n",
    "\n",
    "# Calcular a média da distribuição uniforme\n",
    "media_uniforme = (a + b) / 2\n",
    "\n",
    "# Criar um DataFrame para mostrar os resultados\n",
    "df_uniforme = pd.DataFrame({\n",
    "    \"Menor Comprimento (a)\": [a],\n",
    "    \"Maior Comprimento (b)\": [b],\n",
    "    \"Comprimento Médio (E(X))\": [media_uniforme]\n",
    "})\n",
    "\n",
    "# Exibir os resultados\n",
    "print(df_uniforme)\n"
   ]
  },
  {
   "cell_type": "markdown",
   "metadata": {},
   "source": [
    "O comprimento médio esperado de um cabo é 5 metros. Isso ocorre porque, em uma distribuição uniforme, a média é simplesmente o ponto médio entre o menor e o maior valor possível."
   ]
  }
 ],
 "metadata": {
  "kernelspec": {
   "display_name": "Python 3",
   "language": "python",
   "name": "python3"
  },
  "language_info": {
   "codemirror_mode": {
    "name": "ipython",
    "version": 3
   },
   "file_extension": ".py",
   "mimetype": "text/x-python",
   "name": "python",
   "nbconvert_exporter": "python",
   "pygments_lexer": "ipython3",
   "version": "3.12.3"
  }
 },
 "nbformat": 4,
 "nbformat_minor": 2
}
